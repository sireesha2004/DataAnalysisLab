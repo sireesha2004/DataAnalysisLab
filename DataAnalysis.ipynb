{
 "cells": [
  {
   "cell_type": "code",
   "execution_count": 58,
   "id": "7842e1f9",
   "metadata": {
    "scrolled": true
   },
   "outputs": [
    {
     "name": "stdout",
     "output_type": "stream",
     "text": [
      "[0 0 0 0 0 0 0 0 0 0 0 0 0 0 0 0]\n",
      "[[1 1 1 1]\n",
      " [1 1 1 1]\n",
      " [1 1 1 1]\n",
      " [1 1 1 1]]\n",
      "[[3 3 3 3]\n",
      " [3 3 3 3]\n",
      " [3 3 3 3]]\n",
      "[[1. 0. 0. 0.]\n",
      " [0. 1. 0. 0.]\n",
      " [0. 0. 1. 0.]\n",
      " [0. 0. 0. 1.]]\n",
      "[ 0  3  6  9 12 15 18]\n",
      "[1. 3. 5. 7. 9.]\n",
      "[[0.63352188 0.83709987]\n",
      " [0.12583293 0.62509354]]\n",
      "[[1 2 3]\n",
      " [4 5 6]\n",
      " [7 8 9]]\n",
      "6\n",
      "[[1 2 3]]\n",
      "[[[1 2 3]\n",
      "  [4 5 6]\n",
      "  [7 8 9]]\n",
      "\n",
      " [[9 8 7]\n",
      "  [6 5 4]\n",
      "  [3 2 1]]]\n",
      "\n",
      "[[[1 2 3]\n",
      "  [4 5 6]\n",
      "  [7 8 9]]\n",
      "\n",
      " [[9 8 7]\n",
      "  [6 5 4]\n",
      "  [3 2 1]]]\n"
     ]
    }
   ],
   "source": [
    "import numpy as np\n",
    "a=np.zeros(16,dtype=int)\n",
    "print(a)\n",
    "a=np.ones((4,4),dtype=int)\n",
    "print(a)\n",
    "a=np.full((3,4),3)\n",
    "print(a)\n",
    "a=np.eye(4,4)\n",
    "print(a)\n",
    "a=np.arange(0,20,3)\n",
    "print(a)\n",
    "a=np.linspace(1,9,5)\n",
    "print(a)\n",
    "a=np.random.random([2,2])\n",
    "print(a)\n",
    "a=np.array([[1,2,3],[4,5,6],[7,8,9]])\n",
    "print(a)\n",
    "print(a[1][2])\n",
    "print(a[:1])\n",
    "a=np.array([[[1,2,3],[4,5,6],[7,8,9]],[[ 9,8,7],[6,5,4],[3,2,1]]])\n",
    "print(a)\n",
    "b=np.copy(a)\n",
    "print()\n",
    "print(b)\n"
   ]
  },
  {
   "cell_type": "code",
   "execution_count": 33,
   "id": "f49d108f",
   "metadata": {},
   "outputs": [
    {
     "name": "stdout",
     "output_type": "stream",
     "text": [
      "[[[1 2 3]\n",
      "  [4 5 6]\n",
      "  [7 8 9]]\n",
      "\n",
      " [[9 8 7]\n",
      "  [6 5 4]\n",
      "  [3 2 1]]]\n",
      "5\n",
      "3\n",
      "slicing a [[[1 2 3]\n",
      "  [4 5 6]\n",
      "  [7 8 9]]\n",
      "\n",
      " [[9 8 7]\n",
      "  [6 5 4]\n",
      "  [3 2 1]]]\n",
      "slicing a [6 4]\n",
      "slicing a [2]\n",
      "slicing a [[[4]\n",
      "  [1]]]\n"
     ]
    }
   ],
   "source": [
    "a=np.array([[[1,2,3],[4,5,6],[7,8,9]],[[ 9,8,7],[6,5,4],[3,2,1]]])\n",
    "print(a)\n",
    "print(a[1,-2,1])\n",
    "print(a.ndim)\n",
    "print(\"slicing a\",a[:4])\n",
    "print(\"slicing a\",a[:2,1,2])\n",
    "print(\"slicing a\",a[1:,2,1])\n",
    "print(\"slicing a\",a[1:,1:,2:])"
   ]
  },
  {
   "cell_type": "code",
   "execution_count": 56,
   "id": "eed1cff7",
   "metadata": {},
   "outputs": [
    {
     "name": "stdout",
     "output_type": "stream",
     "text": [
      "[[1. 0. 0. 0.]\n",
      " [0. 1. 0. 0.]\n",
      " [0. 0. 1. 0.]\n",
      " [0. 0. 0. 1.]]\n",
      "[['siri' 'siri' 'siri' 'siri']\n",
      " ['siri' 'siri' 'siri' 'siri']\n",
      " ['siri' 'siri' 'siri' 'siri']\n",
      " ['siri' 'siri' 'siri' 'siri']]\n",
      "length of array: 4\n"
     ]
    }
   ],
   "source": [
    "a=np.full((4,4),'siri')\n",
    "b=np.eye(4,4)\n",
    "print(b)\n",
    "print(a)\n",
    "print(\"length of array:\",len(a))"
   ]
  },
  {
   "cell_type": "code",
   "execution_count": 63,
   "id": "8e56e7c4",
   "metadata": {},
   "outputs": [
    {
     "name": "stdout",
     "output_type": "stream",
     "text": [
      "array('i', [1, 2, 3])\n",
      "array('i', [4, 5, 6])\n",
      "2\n",
      "array('i', [1, 2, 3, 4, 5, 6])\n",
      "array('i', [1, 2, 3, 4])\n",
      "array('i', [10, 1, 2, 3, 4])\n",
      "array('i', [10, 1, 2, 3, 4, 4, 5, 6])\n"
     ]
    }
   ],
   "source": [
    "import array\n",
    " \n",
    "s1 = array.array('i', [1, 2, 3])\n",
    "s2 = array.array('i', [4, 5, 6])\n",
    " \n",
    "print(s1)  \n",
    "print(s2)  \n",
    "s3 = s1 + s2\n",
    "print(s3)  \n",
    " \n",
    "s1.append(4)\n",
    "print(s1)  \n",
    " \n",
    "s1.insert(0, 10)\n",
    "print(s1) \n",
    " \n",
    "s1.extend(s2)\n",
    "print(s1) "
   ]
  },
  {
   "cell_type": "code",
   "execution_count": 55,
   "id": "58f82cbb",
   "metadata": {},
   "outputs": [
    {
     "name": "stdout",
     "output_type": "stream",
     "text": [
      "[[2 2 2 2]\n",
      " [2 2 2 2]\n",
      " [2 2 2 2]\n",
      " [2 2 2 2]]\n",
      "[[3 3 3 3]\n",
      " [3 3 3 3]\n",
      " [3 3 3 3]\n",
      " [3 3 3 3]]\n",
      "adiition of two matrix:\n",
      "[5 5 5 5]\n",
      "[5 5 5 5]\n",
      "[5 5 5 5]\n",
      "[5 5 5 5]\n",
      "subraction of two matrix:\n",
      "[1 1 1 1]\n",
      "[1 1 1 1]\n",
      "[1 1 1 1]\n",
      "[1 1 1 1]\n",
      "multiplication of two matrix:\n",
      "[6 6 6 6]\n",
      "[6 6 6 6]\n",
      "[6 6 6 6]\n",
      "[6 6 6 6]\n"
     ]
    }
   ],
   "source": [
    "a=np.full((4,4),2)\n",
    "b=np.full((4,4),3)\n",
    "print(a)\n",
    "print(b)\n",
    "c=[]\n",
    "print(\"adiition of two matrix:\")\n",
    "for i in a:\n",
    "    for j in b:\n",
    "        c=i+j   \n",
    "    print(c)\n",
    "print(\"subraction of two matrix:\")  \n",
    "for i in a:\n",
    "    for j in b:\n",
    "        c=j-i\n",
    "    print(c)    \n",
    "print(\"multiplication of two matrix:\")\n",
    "for i in a: \n",
    "    for j in b:\n",
    "        c=i*j\n",
    "    print(c)    "
   ]
  },
  {
   "cell_type": "code",
   "execution_count": 68,
   "id": "cd39f9c3",
   "metadata": {},
   "outputs": [
    {
     "name": "stdout",
     "output_type": "stream",
     "text": [
      "minimum element in array: 1\n",
      "maximum element in array: 9\n",
      "sum of array: 45\n",
      "mean of array: 5.0\n",
      "dimention of array: 1\n",
      "shape of array: (9,)\n",
      "standard diviation od array: 2.581988897471611\n",
      "size of array: 9\n",
      "bytes:- 36\n"
     ]
    }
   ],
   "source": [
    "a=np.array([1,2,3,4,5,6,7,8,9])\n",
    "print(\"minimum element in array:\",a.min())\n",
    "print(\"maximum element in array:\",a.max())\n",
    "print(\"sum of array:\",a.sum())\n",
    "print(\"mean of array:\",a.mean())\n",
    "print(\"dimention of array:\",a.ndim)\n",
    "print(\"shape of array:\",a.shape)\n",
    "print(\"standard diviation od array:\",a.std())\n",
    "print(\"size of array:\",a.size)\n",
    "print(\"bytes:-\",a.nbytes)"
   ]
  },
  {
   "cell_type": "code",
   "execution_count": 83,
   "id": "860331b9",
   "metadata": {},
   "outputs": [
    {
     "name": "stdout",
     "output_type": "stream",
     "text": [
      "[[[ 1  2  3  4  5  6  7  8]]\n",
      "\n",
      " [[ 9 10 11 12 13 14 15 16]]\n",
      "\n",
      " [[17 18 19 20 21 22 23 24]]] 3 24 (3, 1, 8)\n",
      "3\n",
      "[[[[ 1  2  3]]\n",
      "\n",
      "  [[ 4  5  6]]]\n",
      "\n",
      "\n",
      " [[[ 7  8  9]]\n",
      "\n",
      "  [[10 11 12]]]\n",
      "\n",
      "\n",
      " [[[13 14 15]]\n",
      "\n",
      "  [[16 17 18]]]\n",
      "\n",
      "\n",
      " [[[19 20 21]]\n",
      "\n",
      "  [[22 23 24]]]]\n"
     ]
    }
   ],
   "source": [
    "import numpy as np\n",
    "a=np.arange(1,25).reshape(3,1,8)\n",
    "print(a, a.ndim,a.size,a.shape)\n",
    "print(a.ndim)\n",
    "b=np.arange(1,25).reshape(4,2,1,3)\n",
    "print(b)"
   ]
  },
  {
   "cell_type": "code",
   "execution_count": null,
   "id": "64546169",
   "metadata": {},
   "outputs": [],
   "source": []
  },
  {
   "cell_type": "code",
   "execution_count": null,
   "id": "877f79c3",
   "metadata": {},
   "outputs": [],
   "source": []
  }
 ],
 "metadata": {
  "kernelspec": {
   "display_name": "Python 3 (ipykernel)",
   "language": "python",
   "name": "python3"
  },
  "language_info": {
   "codemirror_mode": {
    "name": "ipython",
    "version": 3
   },
   "file_extension": ".py",
   "mimetype": "text/x-python",
   "name": "python",
   "nbconvert_exporter": "python",
   "pygments_lexer": "ipython3",
   "version": "3.11.3"
  }
 },
 "nbformat": 4,
 "nbformat_minor": 5
}
